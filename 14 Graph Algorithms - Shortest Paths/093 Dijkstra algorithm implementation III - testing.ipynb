{
 "cells": [
  {
   "cell_type": "code",
   "execution_count": null,
   "metadata": {},
   "outputs": [],
   "source": []
  },
  {
   "cell_type": "code",
   "execution_count": 84,
   "metadata": {},
   "outputs": [
    {
     "name": "stdout",
     "output_type": "stream",
     "text": [
      "shortest path to vertex is : 17\n",
      "D\n",
      "C\n",
      "F\n",
      "E\n",
      "A\n"
     ]
    }
   ],
   "source": [
    "import sys\n",
    "import heapq\n",
    "\n",
    "class Edge(object):\n",
    "    \n",
    "    def __init__(self, weight, startVertex, targetVertex):\n",
    "        self.weight = weight\n",
    "        self.startVertex = startVertex\n",
    "        self.targetVertex = targetVertex\n",
    "        \n",
    "class Node(object):\n",
    "    \n",
    "    def __init__(self, name):\n",
    "        self.name = name\n",
    "        self.visited = False\n",
    "        self.predecessor = None\n",
    "        self.adjacenciesList = []\n",
    "        self.minDistance = sys.maxsize\n",
    "        \n",
    "    def __cmp__(self, otherVertex):\n",
    "        \n",
    "        return self.cmp(self.minDistance, otherVertex.minDistance)\n",
    "    \n",
    "    def __lt__(self, other):\n",
    "        selfPriority = self.minDistance\n",
    "        otherPriority = other.minDistance\n",
    "        return selfPriority < otherPriority\n",
    "    \n",
    "    \n",
    "class Algorithm(object):\n",
    "    \n",
    "    def calculateShortestPath(self, vertexList, startVertex):\n",
    "        \n",
    "        q = []\n",
    "        startVertex.minDistance = 0\n",
    "        heapq.heappush(q, startVertex)\n",
    "        \n",
    "        while len(q) > 0:       # or simply we use while q:\n",
    "            \n",
    "            actualVertex = heapq.heappop(q)\n",
    "            \n",
    "            for edge in actualVertex.adjacenciesList:\n",
    "                u = edge.startVertex\n",
    "                v = edge.targetVertex\n",
    "                newDistance = u.minDistance + edge.weight\n",
    "                \n",
    "                if newDistance < v.minDistance:\n",
    "                    v.predecessor = u\n",
    "                    v.minDistance = newDistance\n",
    "                    heapq.heappush(q, v)\n",
    "                    \n",
    "                    \n",
    "    def getShortestPathTo(self, targetVertex):\n",
    "        \n",
    "        print(\"shortest path to vertex is :\", targetVertex.minDistance)\n",
    "        \n",
    "        node = targetVertex\n",
    "        \n",
    "        while node is not None:\n",
    "            print(node.name)\n",
    "            node = node.predecessor\n",
    "            \n",
    "\n",
    "\n",
    "node1 = Node(\"A\")\n",
    "node2 = Node(\"B\")\n",
    "node3 = Node(\"C\")\n",
    "node4 = Node(\"D\")\n",
    "node5 = Node(\"E\")\n",
    "node6 = Node(\"F\")\n",
    "node7 = Node(\"G\")\n",
    "node8 = Node(\"H\")\n",
    "\n",
    "\n",
    "\n",
    "\n",
    "edge1 =  Edge(5, node1, node2)\n",
    "edge2 =  Edge(8, node1, node8)\n",
    "edge3 =  Edge(9, node1, node5)\n",
    "edge4 =  Edge(15, node2, node4)\n",
    "edge5 =  Edge(12, node2, node3)\n",
    "edge6 =  Edge(4, node2, node8)\n",
    "edge7 =  Edge(7, node8, node3)\n",
    "edge8 =  Edge(6, node8, node6)\n",
    "edge9 =  Edge(5, node5, node8)\n",
    "edge10 = Edge(4, node5, node6)\n",
    "edge11 = Edge(20, node5, node7)\n",
    "edge12 = Edge(1, node6, node3)\n",
    "edge13 = Edge(13, node6, node7)\n",
    "edge14 = Edge(3, node3, node4)\n",
    "edge15 = Edge(11, node3, node7)\n",
    "edge16 = Edge(9, node4, node7)\n",
    "\n",
    "\n",
    "\n",
    "\n",
    "node1.adjacenciesList.append(edge1)\n",
    "node1.adjacenciesList.append(edge2)\n",
    "node1.adjacenciesList.append(edge3)\n",
    "node2.adjacenciesList.append(edge4)\n",
    "node2.adjacenciesList.append(edge5)\n",
    "node2.adjacenciesList.append(edge6)\n",
    "node8.adjacenciesList.append(edge7)\n",
    "node8.adjacenciesList.append(edge8)\n",
    "node5.adjacenciesList.append(edge9)\n",
    "node5.adjacenciesList.append(edge10)\n",
    "node5.adjacenciesList.append(edge11)\n",
    "node6.adjacenciesList.append(edge12)\n",
    "node6.adjacenciesList.append(edge13)\n",
    "node3.adjacenciesList.append(edge14)\n",
    "node3.adjacenciesList.append(edge15)\n",
    "node4.adjacenciesList.append(edge16)\n",
    "\n",
    "\n",
    "\n",
    "\n",
    "vertexList = (node1, node2, node3, node4, node5, node6, node7, node8)\n",
    "\n",
    "\n",
    "\n",
    "\n",
    "algorithm = Algorithm()\n",
    "\n",
    "\n",
    "\n",
    "\n",
    "algorithm.calculateShortestPath(vertexList, node1)\n",
    "algorithm.getShortestPathTo(node4)"
   ]
  },
  {
   "cell_type": "code",
   "execution_count": 85,
   "metadata": {},
   "outputs": [
    {
     "name": "stdout",
     "output_type": "stream",
     "text": [
      "shortest path to vertex is : 9\n",
      "E\n",
      "A\n"
     ]
    }
   ],
   "source": [
    "algorithm.getShortestPathTo(node5)"
   ]
  },
  {
   "cell_type": "code",
   "execution_count": 86,
   "metadata": {},
   "outputs": [
    {
     "name": "stdout",
     "output_type": "stream",
     "text": [
      "shortest path to vertex is : 8\n",
      "H\n",
      "A\n"
     ]
    }
   ],
   "source": [
    "algorithm.getShortestPathTo(node8)"
   ]
  },
  {
   "cell_type": "code",
   "execution_count": 87,
   "metadata": {},
   "outputs": [
    {
     "name": "stdout",
     "output_type": "stream",
     "text": [
      "shortest path to vertex is : 25\n",
      "G\n",
      "C\n",
      "F\n",
      "E\n",
      "A\n"
     ]
    }
   ],
   "source": [
    "algorithm.getShortestPathTo(node7)"
   ]
  },
  {
   "cell_type": "code",
   "execution_count": null,
   "metadata": {},
   "outputs": [],
   "source": []
  }
 ],
 "metadata": {
  "kernelspec": {
   "display_name": "Python 3",
   "language": "python",
   "name": "python3"
  },
  "language_info": {
   "codemirror_mode": {
    "name": "ipython",
    "version": 3
   },
   "file_extension": ".py",
   "mimetype": "text/x-python",
   "name": "python",
   "nbconvert_exporter": "python",
   "pygments_lexer": "ipython3",
   "version": "3.7.4"
  }
 },
 "nbformat": 4,
 "nbformat_minor": 2
}
