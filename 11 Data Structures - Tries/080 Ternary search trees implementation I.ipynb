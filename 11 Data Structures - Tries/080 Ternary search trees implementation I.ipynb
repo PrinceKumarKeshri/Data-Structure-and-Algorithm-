{
 "cells": [
  {
   "cell_type": "code",
   "execution_count": 1,
   "metadata": {},
   "outputs": [],
   "source": [
    "class Node(object):\n",
    "    \n",
    "    def __init__(self, character):\n",
    "        self.character = character\n",
    "        self.leftNode = None\n",
    "        self.middleNode = None\n",
    "        self.rightNode = None\n",
    "        self.value = 0\n",
    "        \n",
    "    \n",
    "class TST(object):\n",
    "    \n",
    "    def __init__(self):\n",
    "        self.rootNode = None\n",
    "        \n",
    "    def put(self, key, value):\n",
    "        self.rootNode = self.putItem(self.rootNode, key, value, 0)\n",
    "        \n",
    "    def putItem(self, node, key, value, index):\n",
    "        \n",
    "        c = key[index]\n",
    "        \n",
    "        if node == None:\n",
    "            node = Node(c)\n",
    "        \n",
    "        if c < node.character:\n",
    "            node.leftNode = self.putItem(node.leftNode, key, value, index)\n",
    "            \n",
    "        elif c > node.character:\n",
    "            node.rightNode = self.putItem(node.rightNode, key, value, index)\n",
    "            \n",
    "        elif index < len(key) - 1:\n",
    "            node.middleNode = self.putItem(node.middleNode, key, value, index + 1)\n",
    "            \n",
    "        else:\n",
    "            node.value = value\n",
    "            \n",
    "        return node\n",
    "   "
   ]
  },
  {
   "cell_type": "code",
   "execution_count": null,
   "metadata": {},
   "outputs": [],
   "source": []
  }
 ],
 "metadata": {
  "kernelspec": {
   "display_name": "Python 3",
   "language": "python",
   "name": "python3"
  },
  "language_info": {
   "codemirror_mode": {
    "name": "ipython",
    "version": 3
   },
   "file_extension": ".py",
   "mimetype": "text/x-python",
   "name": "python",
   "nbconvert_exporter": "python",
   "pygments_lexer": "ipython3",
   "version": "3.7.4"
  }
 },
 "nbformat": 4,
 "nbformat_minor": 2
}
