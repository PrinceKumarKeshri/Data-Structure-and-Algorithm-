{
 "cells": [
  {
   "cell_type": "code",
   "execution_count": 4,
   "metadata": {},
   "outputs": [
    {
     "name": "stdout",
     "output_type": "stream",
     "text": [
      "100\n"
     ]
    }
   ],
   "source": [
    "class Node(object):\n",
    "    \n",
    "    def __init__(self, character):\n",
    "        self.character = character\n",
    "        self.leftNode = None\n",
    "        self.middleNode = None\n",
    "        self.rightNode = None\n",
    "        self.value = 0\n",
    "        \n",
    "    \n",
    "class TST(object):\n",
    "    \n",
    "    def __init__(self):\n",
    "        self.rootNode = None\n",
    "        \n",
    "    def put(self, key, value):\n",
    "        self.rootNode = self.putItem(self.rootNode, key, value, 0)\n",
    "        \n",
    "    def putItem(self, node, key, value, index):\n",
    "        \n",
    "        c = key[index]\n",
    "        \n",
    "        if node == None:\n",
    "            node = Node(c)\n",
    "        \n",
    "        if c < node.character:\n",
    "            node.leftNode = self.putItem(node.leftNode, key, value, index)\n",
    "            \n",
    "        elif c > node.character:\n",
    "            node.rightNode = self.putItem(node.rightNode, key, value, index)\n",
    "            \n",
    "        elif index < len(key) - 1:\n",
    "            node.middleNode = self.putItem(node.middleNode, key, value, index + 1)\n",
    "            \n",
    "        else:\n",
    "            node.value = value\n",
    "            \n",
    "        return node\n",
    "    \n",
    "    def get(self, key):\n",
    "        \n",
    "        node = self.getItem(self.rootNode, key, 0)\n",
    "        \n",
    "        if node == None:\n",
    "            return -1\n",
    "        \n",
    "        return node.value\n",
    "    \n",
    "    def getItem(self, node, key, index):\n",
    "        \n",
    "        if node == None:\n",
    "            return None\n",
    "        \n",
    "        c = key[index]\n",
    "        \n",
    "        if c < node.character:\n",
    "            return self.getItem(node.leftNode, key, index)\n",
    "        \n",
    "        elif c > node.character:\n",
    "            return self.getItem(node.rightNode, key, index)\n",
    "        \n",
    "        elif index < len(key) - 1:\n",
    "            return self.getItem(node.middleNode, key, index + 1)\n",
    "        \n",
    "        else:\n",
    "            return node\n",
    "        \n",
    "\n",
    "        \n",
    "if __name__ == \"__main__\":\n",
    "    \n",
    "    tst = TST()\n",
    "    \n",
    "    tst.put(\"apple\", 100)\n",
    "    tst.put(\"orange\", 200)\n",
    "    \n",
    "    print(tst.get(\"apple\"))"
   ]
  },
  {
   "cell_type": "code",
   "execution_count": 5,
   "metadata": {},
   "outputs": [
    {
     "data": {
      "text/plain": [
       "200"
      ]
     },
     "execution_count": 5,
     "metadata": {},
     "output_type": "execute_result"
    }
   ],
   "source": [
    "tst.get(\"orange\")"
   ]
  },
  {
   "cell_type": "code",
   "execution_count": 6,
   "metadata": {},
   "outputs": [
    {
     "data": {
      "text/plain": [
       "-1"
      ]
     },
     "execution_count": 6,
     "metadata": {},
     "output_type": "execute_result"
    }
   ],
   "source": [
    "tst.get(\"carrot\")"
   ]
  },
  {
   "cell_type": "code",
   "execution_count": 7,
   "metadata": {},
   "outputs": [],
   "source": [
    "tst.put(\"carrot\", 300)"
   ]
  },
  {
   "cell_type": "code",
   "execution_count": 8,
   "metadata": {},
   "outputs": [
    {
     "data": {
      "text/plain": [
       "300"
      ]
     },
     "execution_count": 8,
     "metadata": {},
     "output_type": "execute_result"
    }
   ],
   "source": [
    "tst.get(\"carrot\")"
   ]
  },
  {
   "cell_type": "code",
   "execution_count": null,
   "metadata": {},
   "outputs": [],
   "source": []
  }
 ],
 "metadata": {
  "kernelspec": {
   "display_name": "Python 3",
   "language": "python",
   "name": "python3"
  },
  "language_info": {
   "codemirror_mode": {
    "name": "ipython",
    "version": 3
   },
   "file_extension": ".py",
   "mimetype": "text/x-python",
   "name": "python",
   "nbconvert_exporter": "python",
   "pygments_lexer": "ipython3",
   "version": "3.7.4"
  }
 },
 "nbformat": 4,
 "nbformat_minor": 2
}
