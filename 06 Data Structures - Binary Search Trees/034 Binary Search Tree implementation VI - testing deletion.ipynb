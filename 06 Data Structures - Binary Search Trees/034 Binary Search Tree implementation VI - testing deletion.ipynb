{
 "cells": [
  {
   "cell_type": "code",
   "execution_count": 91,
   "metadata": {},
   "outputs": [],
   "source": [
    "class Node(object):\n",
    "    \n",
    "    def __init__(self, data):\n",
    "        self.data = data;\n",
    "        self.leftChild = None\n",
    "        self.rightChild = None\n",
    "\n",
    "        \n",
    "class BinarySearchTree(object):\n",
    "    \n",
    "    def __init__(self):\n",
    "        self.root = None\n",
    "        \n",
    "    def insert(self, data):\n",
    "        if not self.root:\n",
    "            self.root = Node(data)\n",
    "        else:\n",
    "            self.insertNode(data, self.root)\n",
    "            \n",
    "    \n",
    "    # O(log N) if the tree is balanced !!! --> it can reduced to O(N)  --> AVL RBT are needed !!!!\n",
    "    \n",
    "    def insertNode(self, data, node):\n",
    "        \n",
    "        if data < node.data:\n",
    "            if node.leftChild:\n",
    "                self.insertNode(data, node.leftChild)\n",
    "            else:\n",
    "                node.leftChild = Node(data)\n",
    "        else:\n",
    "            if node.rightChild:\n",
    "                self.insertNode(data, node.rightChild)\n",
    "            else:\n",
    "                node.rightChild = Node(data)\n",
    "                \n",
    "    # O(log N)\n",
    "    \n",
    "    def removeNode(self, data, node):\n",
    "        if not node:\n",
    "            return node\n",
    "        \n",
    "        if data < node.data:\n",
    "            node.leftChild = self.removeNode(data, node.leftChild)\n",
    "        elif data > node.data:\n",
    "            node.rightChild = self.removeNode(data, node.rightChild)\n",
    "        else:\n",
    "            \n",
    "            if not node.leftChild and not node.rightChild:\n",
    "                print(\"Removing a leaf node ...\")\n",
    "                del node;\n",
    "                return None\n",
    "            \n",
    "            if not node.leftChild:\n",
    "                print(\"Removing a node with single right child ...\")\n",
    "                tempNode = node.rightChild\n",
    "                del node\n",
    "                return tempNode\n",
    "            elif not node.rightChild:\n",
    "                print(\"Removing a node with single left child ...\")\n",
    "                tempNode = node.leftChild\n",
    "                del Node\n",
    "                return tempNode\n",
    "            \n",
    "            print(\"Removing node with two children ...\")\n",
    "            tempNode = self.getPredecessor(node.leftChild)\n",
    "            node.data = tempNode.data\n",
    "            node.leftChild = self.removeNode(tempNode.data, node.leftChild)\n",
    "\n",
    "        return node\n",
    "    \n",
    "    \n",
    "    def getPredecessor(self, node):\n",
    "        if node.rightChild:\n",
    "            return self.getPredecessor(node.rightChild)\n",
    "        \n",
    "        return node\n",
    "    \n",
    "    \n",
    "    \n",
    "    def remove(self, data):\n",
    "        if self.root:\n",
    "            self.root = self.removeNode(data, self.root)\n",
    "    \n",
    "        \n",
    "    # O(log N)\n",
    "        \n",
    "    def getMinValue(self):\n",
    "        if self.root:\n",
    "            return self.getMin(self.root)\n",
    "        \n",
    "        \n",
    "    def getMin(self, node):\n",
    "        if node.leftChild:\n",
    "            return self.getMin(node.leftChild)\n",
    "        \n",
    "        return node.data\n",
    "    \n",
    "    \n",
    "    \n",
    "    # O(log N)\n",
    "    \n",
    "    def getMaxValue(self):\n",
    "        if self.root:\n",
    "            return self.getMax(self.root)\n",
    "        \n",
    "    def getMax(self, node):\n",
    "        if node.rightChild:\n",
    "            return self.getMax(node.rightChild)\n",
    "        \n",
    "        return node.data\n",
    "        \n",
    "        \n",
    "    # O(N)    \n",
    "        \n",
    "    def traverse(self):\n",
    "        if self.root:\n",
    "            self.traverseInOrder(self.root)\n",
    "            \n",
    "    def traverseInOrder(self, node):\n",
    "        if node.leftChild:\n",
    "            self.traverseInOrder(node.leftChild)\n",
    "            \n",
    "        print(node.data)\n",
    "        \n",
    "        if node.rightChild:\n",
    "            self.traverseInOrder(node.rightChild)\n",
    "            \n",
    "            \n",
    "\n",
    "bst = BinarySearchTree()"
   ]
  },
  {
   "cell_type": "code",
   "execution_count": 92,
   "metadata": {},
   "outputs": [],
   "source": [
    "bst.insert(12)"
   ]
  },
  {
   "cell_type": "code",
   "execution_count": 93,
   "metadata": {},
   "outputs": [],
   "source": [
    "bst.insert(4)\n",
    "bst.insert(5)\n",
    "bst.insert(1)\n",
    "bst.insert(13)\n",
    "bst.insert(17)"
   ]
  },
  {
   "cell_type": "code",
   "execution_count": 94,
   "metadata": {},
   "outputs": [
    {
     "data": {
      "text/plain": [
       "1"
      ]
     },
     "execution_count": 94,
     "metadata": {},
     "output_type": "execute_result"
    }
   ],
   "source": [
    "bst.getMinValue()"
   ]
  },
  {
   "cell_type": "code",
   "execution_count": 95,
   "metadata": {},
   "outputs": [
    {
     "data": {
      "text/plain": [
       "17"
      ]
     },
     "execution_count": 95,
     "metadata": {},
     "output_type": "execute_result"
    }
   ],
   "source": [
    "bst.getMaxValue()"
   ]
  },
  {
   "cell_type": "code",
   "execution_count": 96,
   "metadata": {},
   "outputs": [
    {
     "data": {
      "text/plain": [
       "<__main__.Node at 0x250b9324388>"
      ]
     },
     "execution_count": 96,
     "metadata": {},
     "output_type": "execute_result"
    }
   ],
   "source": [
    "bst.root"
   ]
  },
  {
   "cell_type": "code",
   "execution_count": 97,
   "metadata": {},
   "outputs": [
    {
     "name": "stdout",
     "output_type": "stream",
     "text": [
      "1\n",
      "4\n",
      "5\n",
      "12\n",
      "13\n",
      "17\n"
     ]
    }
   ],
   "source": [
    "bst.traverse()"
   ]
  },
  {
   "cell_type": "code",
   "execution_count": 98,
   "metadata": {},
   "outputs": [
    {
     "name": "stdout",
     "output_type": "stream",
     "text": [
      "Removing a leaf node ...\n"
     ]
    }
   ],
   "source": [
    "bst.remove(1)"
   ]
  },
  {
   "cell_type": "code",
   "execution_count": 99,
   "metadata": {},
   "outputs": [
    {
     "name": "stdout",
     "output_type": "stream",
     "text": [
      "4\n",
      "5\n",
      "12\n",
      "13\n",
      "17\n"
     ]
    }
   ],
   "source": [
    "bst.traverse()"
   ]
  },
  {
   "cell_type": "code",
   "execution_count": 100,
   "metadata": {},
   "outputs": [
    {
     "name": "stdout",
     "output_type": "stream",
     "text": [
      "Removing a leaf node ...\n"
     ]
    }
   ],
   "source": [
    "bst.remove(5)"
   ]
  },
  {
   "cell_type": "code",
   "execution_count": 101,
   "metadata": {},
   "outputs": [
    {
     "name": "stdout",
     "output_type": "stream",
     "text": [
      "4\n",
      "12\n",
      "13\n",
      "17\n"
     ]
    }
   ],
   "source": [
    "bst.traverse()"
   ]
  },
  {
   "cell_type": "code",
   "execution_count": null,
   "metadata": {},
   "outputs": [],
   "source": []
  }
 ],
 "metadata": {
  "kernelspec": {
   "display_name": "Python 3",
   "language": "python",
   "name": "python3"
  },
  "language_info": {
   "codemirror_mode": {
    "name": "ipython",
    "version": 3
   },
   "file_extension": ".py",
   "mimetype": "text/x-python",
   "name": "python",
   "nbconvert_exporter": "python",
   "pygments_lexer": "ipython3",
   "version": "3.7.4"
  }
 },
 "nbformat": 4,
 "nbformat_minor": 2
}
