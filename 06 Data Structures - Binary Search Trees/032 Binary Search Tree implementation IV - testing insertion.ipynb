{
 "cells": [
  {
   "cell_type": "code",
   "execution_count": 8,
   "metadata": {},
   "outputs": [],
   "source": [
    "class Node(object):\n",
    "    \n",
    "    def __init__(self, data):\n",
    "        self.data = data;\n",
    "        self.leftChild = None\n",
    "        self.rightChild = None\n",
    "\n",
    "        \n",
    "class BinarySearchTree(object):\n",
    "    \n",
    "    def __init__(self):\n",
    "        self.root = None\n",
    "        \n",
    "    def insert(self, data):\n",
    "        if not self.root:\n",
    "            self.root = Node(data)\n",
    "        else:\n",
    "            self.insertNode(data, self.root)\n",
    "            \n",
    "    \n",
    "    # O(log N) if the tree is balanced !!! --> it can reduced to O(N)  --> AVL RBT are needed !!!!\n",
    "    \n",
    "    def insertNode(self, data, node):\n",
    "        \n",
    "        if data < node.data:\n",
    "            if node.leftChild:\n",
    "                self.insertNode(data, node.leftChild)\n",
    "            else:\n",
    "                node.leftChild = Node(data)\n",
    "        else:\n",
    "            if node.rightChild:\n",
    "                self.insertNode(data, node.rightChild)\n",
    "            else:\n",
    "                node.rightChild = Node(data)\n",
    "                \n",
    "        \n",
    "        \n",
    "    def getMinValue(self):\n",
    "        if self.root:\n",
    "            return self.getMin(self.root)\n",
    "        \n",
    "        \n",
    "    def getMin(self, node):\n",
    "        if node.leftChild:\n",
    "            return self.getMin(node.leftChild)\n",
    "        \n",
    "        return node.data\n",
    "    \n",
    "    \n",
    "    \n",
    "    def getMaxValue(self):\n",
    "        if self.root:\n",
    "            return self.getMax(self.root)\n",
    "        \n",
    "    def getMax(self, node):\n",
    "        if node.rightChild:\n",
    "            return self.getMax(node.rightChild)\n",
    "        \n",
    "        return node.data\n",
    "        \n",
    "        \n",
    "    def traverse(self):\n",
    "        if self.root:\n",
    "            self.traverseInOrder(self.root)\n",
    "            \n",
    "    def traverseInOrder(self, node):\n",
    "        if node.leftChild:\n",
    "            self.traverseInOrder(node.leftChild)\n",
    "            \n",
    "        print(node.data)\n",
    "        \n",
    "        if node.rightChild:\n",
    "            self.traverseInOrder(node.rightChild)\n",
    "            \n",
    "            \n",
    "\n",
    "bst = BinarySearchTree()"
   ]
  },
  {
   "cell_type": "code",
   "execution_count": 9,
   "metadata": {},
   "outputs": [],
   "source": [
    "bst.insert(12)"
   ]
  },
  {
   "cell_type": "code",
   "execution_count": 10,
   "metadata": {},
   "outputs": [],
   "source": [
    "bst.insert(4)\n",
    "bst.insert(5)\n",
    "bst.insert(1)\n",
    "bst.insert(13)\n",
    "bst.insert(17)"
   ]
  },
  {
   "cell_type": "code",
   "execution_count": 11,
   "metadata": {},
   "outputs": [
    {
     "data": {
      "text/plain": [
       "1"
      ]
     },
     "execution_count": 11,
     "metadata": {},
     "output_type": "execute_result"
    }
   ],
   "source": [
    "bst.getMinValue()"
   ]
  },
  {
   "cell_type": "code",
   "execution_count": 12,
   "metadata": {},
   "outputs": [
    {
     "data": {
      "text/plain": [
       "17"
      ]
     },
     "execution_count": 12,
     "metadata": {},
     "output_type": "execute_result"
    }
   ],
   "source": [
    "bst.getMaxValue()"
   ]
  },
  {
   "cell_type": "code",
   "execution_count": 13,
   "metadata": {},
   "outputs": [
    {
     "data": {
      "text/plain": [
       "<__main__.Node at 0x18d03013a88>"
      ]
     },
     "execution_count": 13,
     "metadata": {},
     "output_type": "execute_result"
    }
   ],
   "source": [
    "bst.root"
   ]
  },
  {
   "cell_type": "code",
   "execution_count": 15,
   "metadata": {},
   "outputs": [
    {
     "name": "stdout",
     "output_type": "stream",
     "text": [
      "1\n",
      "4\n",
      "5\n",
      "12\n",
      "13\n",
      "17\n"
     ]
    }
   ],
   "source": [
    "bst.traverse()"
   ]
  },
  {
   "cell_type": "code",
   "execution_count": null,
   "metadata": {},
   "outputs": [],
   "source": []
  }
 ],
 "metadata": {
  "kernelspec": {
   "display_name": "Python 3",
   "language": "python",
   "name": "python3"
  },
  "language_info": {
   "codemirror_mode": {
    "name": "ipython",
    "version": 3
   },
   "file_extension": ".py",
   "mimetype": "text/x-python",
   "name": "python",
   "nbconvert_exporter": "python",
   "pygments_lexer": "ipython3",
   "version": "3.7.4"
  }
 },
 "nbformat": 4,
 "nbformat_minor": 2
}
