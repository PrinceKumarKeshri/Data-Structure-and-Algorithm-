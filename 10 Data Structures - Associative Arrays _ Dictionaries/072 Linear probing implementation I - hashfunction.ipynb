{
 "cells": [
  {
   "cell_type": "code",
   "execution_count": 6,
   "metadata": {},
   "outputs": [
    {
     "name": "stdout",
     "output_type": "stream",
     "text": [
      "30\n"
     ]
    }
   ],
   "source": [
    "class HashTable(object):\n",
    "    \n",
    "    def __init__(self):\n",
    "        self.size = 10\n",
    "        self.keys = [None] * self.size\n",
    "        self.values = [None] * self.size\n",
    "        \n",
    "    def put(self, key, data):\n",
    "        \n",
    "        index = self.hashfunction(key)\n",
    "        \n",
    "        while self.keys[index] is not None:\n",
    "            if self.keys[index] == key:\n",
    "                self.values[index] = data # update\n",
    "                return\n",
    "            \n",
    "            # rehash try to find another slot\n",
    "            index = (index + 1) % self.size\n",
    "        \n",
    "        # insert\n",
    "        self.keys[index] = key\n",
    "        self.values[index] = data\n",
    "    \n",
    "    def get(self, key):\n",
    "        \n",
    "        index = self.hashfunction(key)\n",
    "        \n",
    "        while self.keys[index] is not None:\n",
    "            if self.keys[index] == key:\n",
    "                return self.values[index]\n",
    "            \n",
    "            index = (index+1) % self.size\n",
    "            \n",
    "        # it means the key is not present in the associative array\n",
    "        return None\n",
    "    \n",
    "    def hashfunction(self, key):\n",
    "        \n",
    "        sum = 0\n",
    "        for pos in range(len(key)):\n",
    "            sum = sum + ord(key[pos])\n",
    "            \n",
    "        return sum % self.size\n",
    "    \n",
    "\n",
    "    \n",
    "if __name__ == \"__main__\":\n",
    "    table = HashTable()\n",
    "    \n",
    "    table.put(\"apple\", 10)\n",
    "    table.put(\"orange\", 20)\n",
    "    table.put(\"car\", 30)\n",
    "    table.put(\"table\", 40)\n",
    "    \n",
    "    print(table.get(\"car\"))"
   ]
  },
  {
   "cell_type": "code",
   "execution_count": 7,
   "metadata": {},
   "outputs": [
    {
     "data": {
      "text/plain": [
       "10"
      ]
     },
     "execution_count": 7,
     "metadata": {},
     "output_type": "execute_result"
    }
   ],
   "source": [
    "table.get(\"apple\")"
   ]
  },
  {
   "cell_type": "code",
   "execution_count": 8,
   "metadata": {},
   "outputs": [
    {
     "data": {
      "text/plain": [
       "40"
      ]
     },
     "execution_count": 8,
     "metadata": {},
     "output_type": "execute_result"
    }
   ],
   "source": [
    "table.get(\"table\")"
   ]
  },
  {
   "cell_type": "code",
   "execution_count": 9,
   "metadata": {},
   "outputs": [
    {
     "data": {
      "text/plain": [
       "20"
      ]
     },
     "execution_count": 9,
     "metadata": {},
     "output_type": "execute_result"
    }
   ],
   "source": [
    "table.get(\"orange\")"
   ]
  },
  {
   "cell_type": "code",
   "execution_count": 10,
   "metadata": {},
   "outputs": [],
   "source": [
    "table.put(\"name1\", \"rajat\")"
   ]
  },
  {
   "cell_type": "code",
   "execution_count": 11,
   "metadata": {},
   "outputs": [
    {
     "data": {
      "text/plain": [
       "'rajat'"
      ]
     },
     "execution_count": 11,
     "metadata": {},
     "output_type": "execute_result"
    }
   ],
   "source": [
    "table.get(\"name1\")"
   ]
  },
  {
   "cell_type": "code",
   "execution_count": 12,
   "metadata": {},
   "outputs": [],
   "source": [
    "table.get(\"name2\")"
   ]
  },
  {
   "cell_type": "code",
   "execution_count": null,
   "metadata": {},
   "outputs": [],
   "source": []
  }
 ],
 "metadata": {
  "kernelspec": {
   "display_name": "Python 3",
   "language": "python",
   "name": "python3"
  },
  "language_info": {
   "codemirror_mode": {
    "name": "ipython",
    "version": 3
   },
   "file_extension": ".py",
   "mimetype": "text/x-python",
   "name": "python",
   "nbconvert_exporter": "python",
   "pygments_lexer": "ipython3",
   "version": "3.7.4"
  }
 },
 "nbformat": 4,
 "nbformat_minor": 2
}
