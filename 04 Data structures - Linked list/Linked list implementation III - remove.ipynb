{
 "cells": [
  {
   "cell_type": "code",
   "execution_count": 82,
   "metadata": {},
   "outputs": [],
   "source": [
    "class Node(object):\n",
    "    \n",
    "    def __init__(self, data):\n",
    "        self.data = data\n",
    "        self.nextNode = None\n",
    "        \n",
    "class LinkedList(object):\n",
    "    \n",
    "    def __init__(self):\n",
    "        self.head = None\n",
    "        self.size = 0\n",
    "     \n",
    "    \n",
    "    # O(1) !!!\n",
    "    \n",
    "    def insertStart(self, data):\n",
    "        self.size = self.size + 1\n",
    "        newNode = Node(data)\n",
    "        \n",
    "        if not self.head:\n",
    "            self.head = newNode\n",
    "            return f'Element inserted = {newNode.data}'\n",
    "            \n",
    "        else:\n",
    "            newNode.nextNode = self.head\n",
    "            self.head = newNode\n",
    "            return f'Element inserted at the beginning = {newNode.data}'\n",
    "            \n",
    "            \n",
    "    def traverseList(self):\n",
    "        size = 0\n",
    "        actualNode = self.head\n",
    "    \n",
    "        while actualNode is not None:\n",
    "            size += 1\n",
    "            print(f'Element {size} = {actualNode.data}')\n",
    "            actualNode = actualNode.nextNode\n",
    "    \n",
    "    \n",
    "    # O(1)\n",
    "    \n",
    "    def size(self):\n",
    "        return self.size\n",
    "    \n",
    "    \n",
    "    #O(N) not good !!!\n",
    "    \n",
    "    def size2(self):\n",
    "        actualNode = self.head\n",
    "        size = 0\n",
    "        \n",
    "        while actualNode is not None:\n",
    "            size += 1\n",
    "            actualNode = actualNode.nextNode\n",
    "            \n",
    "        return size\n",
    "    \n",
    "    \n",
    "    # O(N)\n",
    "    \n",
    "    def insertEnd(self, data):\n",
    "        self.size = self.size+1\n",
    "        newNode = Node(data)\n",
    "        actualNode = self.head\n",
    "        \n",
    "        while actualNode.nextNode is not None:\n",
    "            actualNode = actualNode.nextNode\n",
    "            \n",
    "        actualNode.nextNode = newNode\n",
    "        return f'Element inserted at the end = {newNode.data}'\n",
    "    \n",
    "    \n",
    "    def insertAtGivenPosition(self, position, data):\n",
    "        size = 0\n",
    "        newNode = Node(data)\n",
    "        currentNode = self.head\n",
    "        previousNode = None\n",
    "        \n",
    "        while size != position-1:\n",
    "            size += 1\n",
    "            previousNode = currentNode\n",
    "            currentNode = currentNode.nextNode\n",
    "        \n",
    "        if previousNode is None:\n",
    "            #newNode.nextNode = currentNode\n",
    "            #self.head = newNode\n",
    "            # if we want to avoid write these complex code then we use as :\n",
    "            self.insertStart(data)\n",
    "            return f'Element inserted at the position {position} = {newNode.data}'\n",
    "            \n",
    "        else:\n",
    "            newNode.nextNode = currentNode\n",
    "            previousNode.nextNode = newNode\n",
    "            return f'Element inserted at the position {position} = {newNode.data}'\n",
    "    \n",
    "    \n",
    "    def remove(self, data):\n",
    "        if self.head is None:\n",
    "            return\n",
    "        \n",
    "        self.size = self.size-1\n",
    "        \n",
    "        currentNode = self.head\n",
    "        previousNode = None\n",
    "        \n",
    "        while currentNode.data != data:\n",
    "            previousNode = currentNode\n",
    "            currentNode = currentNode.nextNode\n",
    "            \n",
    "        if previousNode is None:\n",
    "            self.head = currentNode.nextNode\n",
    "            \n",
    "        else:\n",
    "            previousNode.nextNode = currentNode.nextNode\n",
    "            \n",
    "        \n",
    "        return f'Remove element = {currentNode.data}'\n",
    "    \n",
    "    \n",
    "linked_list = LinkedList()"
   ]
  },
  {
   "cell_type": "code",
   "execution_count": 83,
   "metadata": {},
   "outputs": [
    {
     "data": {
      "text/plain": [
       "'Element inserted = 10'"
      ]
     },
     "execution_count": 83,
     "metadata": {},
     "output_type": "execute_result"
    }
   ],
   "source": [
    "linked_list.insertStart(10)"
   ]
  },
  {
   "cell_type": "code",
   "execution_count": 84,
   "metadata": {},
   "outputs": [
    {
     "data": {
      "text/plain": [
       "<__main__.Node at 0x2615929f588>"
      ]
     },
     "execution_count": 84,
     "metadata": {},
     "output_type": "execute_result"
    }
   ],
   "source": [
    "linked_list.head"
   ]
  },
  {
   "cell_type": "code",
   "execution_count": 85,
   "metadata": {},
   "outputs": [
    {
     "data": {
      "text/plain": [
       "1"
      ]
     },
     "execution_count": 85,
     "metadata": {},
     "output_type": "execute_result"
    }
   ],
   "source": [
    "linked_list.size"
   ]
  },
  {
   "cell_type": "code",
   "execution_count": 86,
   "metadata": {},
   "outputs": [
    {
     "data": {
      "text/plain": [
       "1"
      ]
     },
     "execution_count": 86,
     "metadata": {},
     "output_type": "execute_result"
    }
   ],
   "source": [
    "linked_list.size2()"
   ]
  },
  {
   "cell_type": "code",
   "execution_count": 87,
   "metadata": {},
   "outputs": [
    {
     "name": "stdout",
     "output_type": "stream",
     "text": [
      "Element 1 = 10\n"
     ]
    }
   ],
   "source": [
    "linked_list.traverseList()"
   ]
  },
  {
   "cell_type": "code",
   "execution_count": 88,
   "metadata": {},
   "outputs": [
    {
     "data": {
      "text/plain": [
       "'Element inserted at the beginning = 20'"
      ]
     },
     "execution_count": 88,
     "metadata": {},
     "output_type": "execute_result"
    }
   ],
   "source": [
    "linked_list.insertStart(20)"
   ]
  },
  {
   "cell_type": "code",
   "execution_count": 89,
   "metadata": {},
   "outputs": [
    {
     "name": "stdout",
     "output_type": "stream",
     "text": [
      "Element 1 = 20\n",
      "Element 2 = 10\n"
     ]
    }
   ],
   "source": [
    "linked_list.traverseList()"
   ]
  },
  {
   "cell_type": "code",
   "execution_count": 90,
   "metadata": {},
   "outputs": [
    {
     "data": {
      "text/plain": [
       "'Element inserted at the beginning = 30'"
      ]
     },
     "execution_count": 90,
     "metadata": {},
     "output_type": "execute_result"
    }
   ],
   "source": [
    "linked_list.insertStart(30)"
   ]
  },
  {
   "cell_type": "code",
   "execution_count": 91,
   "metadata": {},
   "outputs": [
    {
     "name": "stdout",
     "output_type": "stream",
     "text": [
      "Element 1 = 30\n",
      "Element 2 = 20\n",
      "Element 3 = 10\n"
     ]
    }
   ],
   "source": [
    "linked_list.traverseList()"
   ]
  },
  {
   "cell_type": "code",
   "execution_count": 92,
   "metadata": {},
   "outputs": [
    {
     "data": {
      "text/plain": [
       "'Element inserted at the beginning = 40'"
      ]
     },
     "execution_count": 92,
     "metadata": {},
     "output_type": "execute_result"
    }
   ],
   "source": [
    "linked_list.insertStart(40)"
   ]
  },
  {
   "cell_type": "code",
   "execution_count": 93,
   "metadata": {},
   "outputs": [
    {
     "name": "stdout",
     "output_type": "stream",
     "text": [
      "Element 1 = 40\n",
      "Element 2 = 30\n",
      "Element 3 = 20\n",
      "Element 4 = 10\n"
     ]
    }
   ],
   "source": [
    "linked_list.traverseList()"
   ]
  },
  {
   "cell_type": "code",
   "execution_count": 94,
   "metadata": {},
   "outputs": [
    {
     "data": {
      "text/plain": [
       "'Element inserted at the beginning = 50'"
      ]
     },
     "execution_count": 94,
     "metadata": {},
     "output_type": "execute_result"
    }
   ],
   "source": [
    "linked_list.insertStart(50)"
   ]
  },
  {
   "cell_type": "code",
   "execution_count": 95,
   "metadata": {},
   "outputs": [
    {
     "name": "stdout",
     "output_type": "stream",
     "text": [
      "Element 1 = 50\n",
      "Element 2 = 40\n",
      "Element 3 = 30\n",
      "Element 4 = 20\n",
      "Element 5 = 10\n"
     ]
    }
   ],
   "source": [
    "linked_list.traverseList()"
   ]
  },
  {
   "cell_type": "code",
   "execution_count": 96,
   "metadata": {},
   "outputs": [
    {
     "data": {
      "text/plain": [
       "<__main__.Node at 0x26158ff6fc8>"
      ]
     },
     "execution_count": 96,
     "metadata": {},
     "output_type": "execute_result"
    }
   ],
   "source": [
    "linked_list.head"
   ]
  },
  {
   "cell_type": "code",
   "execution_count": 97,
   "metadata": {},
   "outputs": [
    {
     "data": {
      "text/plain": [
       "5"
      ]
     },
     "execution_count": 97,
     "metadata": {},
     "output_type": "execute_result"
    }
   ],
   "source": [
    "linked_list.size"
   ]
  },
  {
   "cell_type": "code",
   "execution_count": 98,
   "metadata": {},
   "outputs": [
    {
     "data": {
      "text/plain": [
       "<bound method LinkedList.size2 of <__main__.LinkedList object at 0x00000261592075C8>>"
      ]
     },
     "execution_count": 98,
     "metadata": {},
     "output_type": "execute_result"
    }
   ],
   "source": [
    "linked_list.size2"
   ]
  },
  {
   "cell_type": "code",
   "execution_count": 99,
   "metadata": {},
   "outputs": [
    {
     "data": {
      "text/plain": [
       "5"
      ]
     },
     "execution_count": 99,
     "metadata": {},
     "output_type": "execute_result"
    }
   ],
   "source": [
    "linked_list.size2()"
   ]
  },
  {
   "cell_type": "code",
   "execution_count": 100,
   "metadata": {},
   "outputs": [
    {
     "data": {
      "text/plain": [
       "'Element inserted at the end = 60'"
      ]
     },
     "execution_count": 100,
     "metadata": {},
     "output_type": "execute_result"
    }
   ],
   "source": [
    "linked_list.insertEnd(60)"
   ]
  },
  {
   "cell_type": "code",
   "execution_count": 101,
   "metadata": {},
   "outputs": [
    {
     "name": "stdout",
     "output_type": "stream",
     "text": [
      "Element 1 = 50\n",
      "Element 2 = 40\n",
      "Element 3 = 30\n",
      "Element 4 = 20\n",
      "Element 5 = 10\n",
      "Element 6 = 60\n"
     ]
    }
   ],
   "source": [
    "linked_list.traverseList()"
   ]
  },
  {
   "cell_type": "code",
   "execution_count": 102,
   "metadata": {},
   "outputs": [
    {
     "data": {
      "text/plain": [
       "'Element inserted at the end = 70'"
      ]
     },
     "execution_count": 102,
     "metadata": {},
     "output_type": "execute_result"
    }
   ],
   "source": [
    "linked_list.insertEnd(70)"
   ]
  },
  {
   "cell_type": "code",
   "execution_count": 103,
   "metadata": {},
   "outputs": [
    {
     "name": "stdout",
     "output_type": "stream",
     "text": [
      "Element 1 = 50\n",
      "Element 2 = 40\n",
      "Element 3 = 30\n",
      "Element 4 = 20\n",
      "Element 5 = 10\n",
      "Element 6 = 60\n",
      "Element 7 = 70\n"
     ]
    }
   ],
   "source": [
    "linked_list.traverseList()"
   ]
  },
  {
   "cell_type": "code",
   "execution_count": 104,
   "metadata": {},
   "outputs": [
    {
     "data": {
      "text/plain": [
       "7"
      ]
     },
     "execution_count": 104,
     "metadata": {},
     "output_type": "execute_result"
    }
   ],
   "source": [
    "linked_list.size2()"
   ]
  },
  {
   "cell_type": "code",
   "execution_count": 105,
   "metadata": {},
   "outputs": [
    {
     "data": {
      "text/plain": [
       "'Remove element = 60'"
      ]
     },
     "execution_count": 105,
     "metadata": {},
     "output_type": "execute_result"
    }
   ],
   "source": [
    "linked_list.remove(60)"
   ]
  },
  {
   "cell_type": "code",
   "execution_count": 106,
   "metadata": {},
   "outputs": [
    {
     "name": "stdout",
     "output_type": "stream",
     "text": [
      "Element 1 = 50\n",
      "Element 2 = 40\n",
      "Element 3 = 30\n",
      "Element 4 = 20\n",
      "Element 5 = 10\n",
      "Element 6 = 70\n"
     ]
    }
   ],
   "source": [
    "linked_list.traverseList()"
   ]
  },
  {
   "cell_type": "code",
   "execution_count": 107,
   "metadata": {},
   "outputs": [
    {
     "data": {
      "text/plain": [
       "'Remove element = 50'"
      ]
     },
     "execution_count": 107,
     "metadata": {},
     "output_type": "execute_result"
    }
   ],
   "source": [
    "linked_list.remove(50)"
   ]
  },
  {
   "cell_type": "code",
   "execution_count": 108,
   "metadata": {},
   "outputs": [
    {
     "name": "stdout",
     "output_type": "stream",
     "text": [
      "Element 1 = 40\n",
      "Element 2 = 30\n",
      "Element 3 = 20\n",
      "Element 4 = 10\n",
      "Element 5 = 70\n"
     ]
    }
   ],
   "source": [
    "linked_list.traverseList()"
   ]
  },
  {
   "cell_type": "code",
   "execution_count": null,
   "metadata": {},
   "outputs": [],
   "source": []
  }
 ],
 "metadata": {
  "kernelspec": {
   "display_name": "Python 3",
   "language": "python",
   "name": "python3"
  },
  "language_info": {
   "codemirror_mode": {
    "name": "ipython",
    "version": 3
   },
   "file_extension": ".py",
   "mimetype": "text/x-python",
   "name": "python",
   "nbconvert_exporter": "python",
   "pygments_lexer": "ipython3",
   "version": "3.7.4"
  }
 },
 "nbformat": 4,
 "nbformat_minor": 2
}
