{
 "cells": [
  {
   "cell_type": "code",
   "execution_count": 725,
   "metadata": {},
   "outputs": [],
   "source": [
    "class Node(object):\n",
    "    \n",
    "    def __init__(self, data):\n",
    "        self.data = data\n",
    "        self.nextNode = None\n",
    "        \n",
    "class LinkedList(object):\n",
    "    \n",
    "    def __init__(self):\n",
    "        self.head = None\n",
    "        self.size = 0\n",
    "        \n",
    "    # O(1) !!!\n",
    "    \n",
    "    def insertStart(self, data):\n",
    "        self.size = self.size + 1\n",
    "        newNode = Node(data)\n",
    "        \n",
    "        if not self.head:\n",
    "            self.head = newNode\n",
    "            return f'Element inserted = {newNode.data}'\n",
    "            \n",
    "        else:\n",
    "            newNode.nextNode = self.head\n",
    "            self.head = newNode\n",
    "            return f'Element inserted at the beginning = {newNode.data}'\n",
    "            \n",
    "            \n",
    "    def traverseList(self):\n",
    "        size = 0\n",
    "        actualNode = self.head\n",
    "    \n",
    "        while actualNode is not None:\n",
    "            size += 1\n",
    "            print(f'Element {size} = {actualNode.data}')\n",
    "            actualNode = actualNode.nextNode\n",
    "    \n",
    "    # O(1)\n",
    "    \n",
    "    def size(self):\n",
    "        return self.size\n",
    "    \n",
    "    #O(N) not good !!!\n",
    "    \n",
    "    def size2(self):\n",
    "        actualNode = self.head\n",
    "        size = 0\n",
    "        \n",
    "        while actualNode is not None:\n",
    "            size += 1\n",
    "            actualNode = actualNode.nextNode\n",
    "            \n",
    "        return size\n",
    "    \n",
    "    # O(N)\n",
    "    \n",
    "    def insertEnd(self, data):\n",
    "        self.size = self.size+1\n",
    "        newNode = Node(data)\n",
    "        actualNode = self.head\n",
    "        \n",
    "        while actualNode.nextNode is not None:\n",
    "            actualNode = actualNode.nextNode\n",
    "            \n",
    "        actualNode.nextNode = newNode\n",
    "        return f'Element inserted at the end = {newNode.data}'\n",
    "    \n",
    "    def insertAtGivenPosition(self, position, data):\n",
    "        size = 0\n",
    "        newNode = Node(data)\n",
    "        currentNode = self.head\n",
    "        previousNode = None\n",
    "        \n",
    "        while size != position-1:\n",
    "            size += 1\n",
    "            previousNode = currentNode\n",
    "            currentNode = currentNode.nextNode\n",
    "        \n",
    "        if previousNode is None:\n",
    "            #newNode.nextNode = currentNode\n",
    "            #self.head = newNode\n",
    "            # if we want to avoid write these complex code then we use as :\n",
    "            self.insertStart(data)\n",
    "            return f'Element inserted at the position {position} = {newNode.data}'\n",
    "            \n",
    "        else:\n",
    "            newNode.nextNode = currentNode\n",
    "            previousNode.nextNode = newNode\n",
    "            return f'Element inserted at the position {position} = {newNode.data}'\n",
    "        \n",
    "\n",
    "linked_list = LinkedList()"
   ]
  },
  {
   "cell_type": "code",
   "execution_count": 726,
   "metadata": {},
   "outputs": [
    {
     "data": {
      "text/plain": [
       "'Element inserted = 10'"
      ]
     },
     "execution_count": 726,
     "metadata": {},
     "output_type": "execute_result"
    }
   ],
   "source": [
    "linked_list.insertStart(10)"
   ]
  },
  {
   "cell_type": "code",
   "execution_count": 727,
   "metadata": {},
   "outputs": [
    {
     "data": {
      "text/plain": [
       "<__main__.Node at 0x242736bcf48>"
      ]
     },
     "execution_count": 727,
     "metadata": {},
     "output_type": "execute_result"
    }
   ],
   "source": [
    "linked_list.head"
   ]
  },
  {
   "cell_type": "code",
   "execution_count": 728,
   "metadata": {},
   "outputs": [
    {
     "data": {
      "text/plain": [
       "1"
      ]
     },
     "execution_count": 728,
     "metadata": {},
     "output_type": "execute_result"
    }
   ],
   "source": [
    "linked_list.size"
   ]
  },
  {
   "cell_type": "code",
   "execution_count": 729,
   "metadata": {},
   "outputs": [
    {
     "data": {
      "text/plain": [
       "1"
      ]
     },
     "execution_count": 729,
     "metadata": {},
     "output_type": "execute_result"
    }
   ],
   "source": [
    "linked_list.size2()"
   ]
  },
  {
   "cell_type": "code",
   "execution_count": 730,
   "metadata": {},
   "outputs": [
    {
     "name": "stdout",
     "output_type": "stream",
     "text": [
      "Element 1 = 10\n"
     ]
    }
   ],
   "source": [
    "linked_list.traverseList()"
   ]
  },
  {
   "cell_type": "code",
   "execution_count": 731,
   "metadata": {},
   "outputs": [
    {
     "data": {
      "text/plain": [
       "'Element inserted at the beginning = 20'"
      ]
     },
     "execution_count": 731,
     "metadata": {},
     "output_type": "execute_result"
    }
   ],
   "source": [
    "linked_list.insertStart(20)"
   ]
  },
  {
   "cell_type": "code",
   "execution_count": 732,
   "metadata": {},
   "outputs": [
    {
     "name": "stdout",
     "output_type": "stream",
     "text": [
      "Element 1 = 20\n",
      "Element 2 = 10\n"
     ]
    }
   ],
   "source": [
    "linked_list.traverseList()"
   ]
  },
  {
   "cell_type": "code",
   "execution_count": 733,
   "metadata": {},
   "outputs": [
    {
     "data": {
      "text/plain": [
       "'Element inserted at the beginning = 30'"
      ]
     },
     "execution_count": 733,
     "metadata": {},
     "output_type": "execute_result"
    }
   ],
   "source": [
    "linked_list.insertStart(30)"
   ]
  },
  {
   "cell_type": "code",
   "execution_count": 734,
   "metadata": {},
   "outputs": [
    {
     "name": "stdout",
     "output_type": "stream",
     "text": [
      "Element 1 = 30\n",
      "Element 2 = 20\n",
      "Element 3 = 10\n"
     ]
    }
   ],
   "source": [
    "linked_list.traverseList()"
   ]
  },
  {
   "cell_type": "code",
   "execution_count": 735,
   "metadata": {},
   "outputs": [
    {
     "data": {
      "text/plain": [
       "'Element inserted at the beginning = 40'"
      ]
     },
     "execution_count": 735,
     "metadata": {},
     "output_type": "execute_result"
    }
   ],
   "source": [
    "linked_list.insertStart(40)"
   ]
  },
  {
   "cell_type": "code",
   "execution_count": 736,
   "metadata": {},
   "outputs": [
    {
     "name": "stdout",
     "output_type": "stream",
     "text": [
      "Element 1 = 40\n",
      "Element 2 = 30\n",
      "Element 3 = 20\n",
      "Element 4 = 10\n"
     ]
    }
   ],
   "source": [
    "linked_list.traverseList()"
   ]
  },
  {
   "cell_type": "code",
   "execution_count": 737,
   "metadata": {},
   "outputs": [
    {
     "data": {
      "text/plain": [
       "'Element inserted at the beginning = 50'"
      ]
     },
     "execution_count": 737,
     "metadata": {},
     "output_type": "execute_result"
    }
   ],
   "source": [
    "linked_list.insertStart(50)"
   ]
  },
  {
   "cell_type": "code",
   "execution_count": 738,
   "metadata": {},
   "outputs": [
    {
     "name": "stdout",
     "output_type": "stream",
     "text": [
      "Element 1 = 50\n",
      "Element 2 = 40\n",
      "Element 3 = 30\n",
      "Element 4 = 20\n",
      "Element 5 = 10\n"
     ]
    }
   ],
   "source": [
    "linked_list.traverseList()"
   ]
  },
  {
   "cell_type": "code",
   "execution_count": 739,
   "metadata": {},
   "outputs": [
    {
     "data": {
      "text/plain": [
       "<__main__.Node at 0x2427362c1c8>"
      ]
     },
     "execution_count": 739,
     "metadata": {},
     "output_type": "execute_result"
    }
   ],
   "source": [
    "linked_list.head"
   ]
  },
  {
   "cell_type": "code",
   "execution_count": 740,
   "metadata": {},
   "outputs": [
    {
     "data": {
      "text/plain": [
       "5"
      ]
     },
     "execution_count": 740,
     "metadata": {},
     "output_type": "execute_result"
    }
   ],
   "source": [
    "linked_list.size"
   ]
  },
  {
   "cell_type": "code",
   "execution_count": 741,
   "metadata": {},
   "outputs": [
    {
     "data": {
      "text/plain": [
       "<bound method LinkedList.size2 of <__main__.LinkedList object at 0x0000024273682D48>>"
      ]
     },
     "execution_count": 741,
     "metadata": {},
     "output_type": "execute_result"
    }
   ],
   "source": [
    "linked_list.size2"
   ]
  },
  {
   "cell_type": "code",
   "execution_count": 742,
   "metadata": {},
   "outputs": [
    {
     "data": {
      "text/plain": [
       "5"
      ]
     },
     "execution_count": 742,
     "metadata": {},
     "output_type": "execute_result"
    }
   ],
   "source": [
    "linked_list.size2()"
   ]
  },
  {
   "cell_type": "code",
   "execution_count": 743,
   "metadata": {},
   "outputs": [
    {
     "data": {
      "text/plain": [
       "'Element inserted at the end = 60'"
      ]
     },
     "execution_count": 743,
     "metadata": {},
     "output_type": "execute_result"
    }
   ],
   "source": [
    "linked_list.insertEnd(60)"
   ]
  },
  {
   "cell_type": "code",
   "execution_count": 744,
   "metadata": {},
   "outputs": [
    {
     "name": "stdout",
     "output_type": "stream",
     "text": [
      "Element 1 = 50\n",
      "Element 2 = 40\n",
      "Element 3 = 30\n",
      "Element 4 = 20\n",
      "Element 5 = 10\n",
      "Element 6 = 60\n"
     ]
    }
   ],
   "source": [
    "linked_list.traverseList()"
   ]
  },
  {
   "cell_type": "code",
   "execution_count": 745,
   "metadata": {},
   "outputs": [
    {
     "data": {
      "text/plain": [
       "'Element inserted at the end = 70'"
      ]
     },
     "execution_count": 745,
     "metadata": {},
     "output_type": "execute_result"
    }
   ],
   "source": [
    "linked_list.insertEnd(70)"
   ]
  },
  {
   "cell_type": "code",
   "execution_count": 746,
   "metadata": {},
   "outputs": [
    {
     "name": "stdout",
     "output_type": "stream",
     "text": [
      "Element 1 = 50\n",
      "Element 2 = 40\n",
      "Element 3 = 30\n",
      "Element 4 = 20\n",
      "Element 5 = 10\n",
      "Element 6 = 60\n",
      "Element 7 = 70\n"
     ]
    }
   ],
   "source": [
    "linked_list.traverseList()"
   ]
  },
  {
   "cell_type": "code",
   "execution_count": 747,
   "metadata": {},
   "outputs": [
    {
     "data": {
      "text/plain": [
       "7"
      ]
     },
     "execution_count": 747,
     "metadata": {},
     "output_type": "execute_result"
    }
   ],
   "source": [
    "linked_list.size2()"
   ]
  },
  {
   "cell_type": "code",
   "execution_count": 748,
   "metadata": {},
   "outputs": [
    {
     "data": {
      "text/plain": [
       "'Element inserted at the position 1 = 80'"
      ]
     },
     "execution_count": 748,
     "metadata": {},
     "output_type": "execute_result"
    }
   ],
   "source": [
    "linked_list.insertAtGivenPosition(1, 80)"
   ]
  },
  {
   "cell_type": "code",
   "execution_count": 749,
   "metadata": {},
   "outputs": [
    {
     "name": "stdout",
     "output_type": "stream",
     "text": [
      "Element 1 = 80\n",
      "Element 2 = 50\n",
      "Element 3 = 40\n",
      "Element 4 = 30\n",
      "Element 5 = 20\n",
      "Element 6 = 10\n",
      "Element 7 = 60\n",
      "Element 8 = 70\n"
     ]
    }
   ],
   "source": [
    "linked_list.traverseList()"
   ]
  },
  {
   "cell_type": "code",
   "execution_count": 750,
   "metadata": {},
   "outputs": [
    {
     "data": {
      "text/plain": [
       "'Element inserted at the position 8 = 90'"
      ]
     },
     "execution_count": 750,
     "metadata": {},
     "output_type": "execute_result"
    }
   ],
   "source": [
    "linked_list.insertAtGivenPosition(8, 90)"
   ]
  },
  {
   "cell_type": "code",
   "execution_count": 751,
   "metadata": {},
   "outputs": [
    {
     "name": "stdout",
     "output_type": "stream",
     "text": [
      "Element 1 = 80\n",
      "Element 2 = 50\n",
      "Element 3 = 40\n",
      "Element 4 = 30\n",
      "Element 5 = 20\n",
      "Element 6 = 10\n",
      "Element 7 = 60\n",
      "Element 8 = 90\n",
      "Element 9 = 70\n"
     ]
    }
   ],
   "source": [
    "linked_list.traverseList()"
   ]
  },
  {
   "cell_type": "code",
   "execution_count": 752,
   "metadata": {},
   "outputs": [
    {
     "data": {
      "text/plain": [
       "'Element inserted at the position 10 = 100'"
      ]
     },
     "execution_count": 752,
     "metadata": {},
     "output_type": "execute_result"
    }
   ],
   "source": [
    "linked_list.insertAtGivenPosition(10, 100)"
   ]
  },
  {
   "cell_type": "code",
   "execution_count": 753,
   "metadata": {},
   "outputs": [
    {
     "name": "stdout",
     "output_type": "stream",
     "text": [
      "Element 1 = 80\n",
      "Element 2 = 50\n",
      "Element 3 = 40\n",
      "Element 4 = 30\n",
      "Element 5 = 20\n",
      "Element 6 = 10\n",
      "Element 7 = 60\n",
      "Element 8 = 90\n",
      "Element 9 = 70\n",
      "Element 10 = 100\n"
     ]
    }
   ],
   "source": [
    "linked_list.traverseList()"
   ]
  },
  {
   "cell_type": "code",
   "execution_count": null,
   "metadata": {},
   "outputs": [],
   "source": []
  }
 ],
 "metadata": {
  "kernelspec": {
   "display_name": "Python 3",
   "language": "python",
   "name": "python3"
  },
  "language_info": {
   "codemirror_mode": {
    "name": "ipython",
    "version": 3
   },
   "file_extension": ".py",
   "mimetype": "text/x-python",
   "name": "python",
   "nbconvert_exporter": "python",
   "pygments_lexer": "ipython3",
   "version": "3.7.4"
  }
 },
 "nbformat": 4,
 "nbformat_minor": 2
}
