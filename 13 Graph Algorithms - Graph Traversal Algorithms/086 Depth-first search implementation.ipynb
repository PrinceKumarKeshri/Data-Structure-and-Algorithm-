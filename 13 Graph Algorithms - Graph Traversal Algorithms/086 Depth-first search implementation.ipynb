{
 "cells": [
  {
   "cell_type": "code",
   "execution_count": 2,
   "metadata": {},
   "outputs": [
    {
     "name": "stdout",
     "output_type": "stream",
     "text": [
      "A\n",
      "B\n",
      "D\n",
      "E\n",
      "C\n"
     ]
    }
   ],
   "source": [
    "class Node(object):\n",
    "    \n",
    "    def __init__(self, name):\n",
    "        self.name = name\n",
    "        self.adjacenciesList = []\n",
    "        self.visited = False\n",
    "        self.predecessor = None\n",
    "        \n",
    "# BFS -> queue + layer by layer algorithms DFS -> stack + goes as deep as possible\n",
    "\n",
    "class DepthFirstSearch(object): \n",
    "    \n",
    "    def dfs(self, node):\n",
    "        node.visited = True\n",
    "        print(node.name)\n",
    "        \n",
    "        for n in node.adjacenciesList:\n",
    "            if not n.visited:\n",
    "                self.dfs(n)\n",
    "            \n",
    "            \n",
    "node1 = Node(\"A\")\n",
    "node2 = Node(\"B\")\n",
    "node3 = Node(\"C\")\n",
    "node4 = Node(\"D\")\n",
    "node5 = Node(\"E\")\n",
    "\n",
    "node1.adjacenciesList.append(node2)\n",
    "node1.adjacenciesList.append(node3)\n",
    "node2.adjacenciesList.append(node4)\n",
    "node4.adjacenciesList.append(node5)\n",
    "\n",
    "dfs = DepthFirstSearch()\n",
    "dfs.dfs(node1)"
   ]
  },
  {
   "cell_type": "code",
   "execution_count": null,
   "metadata": {},
   "outputs": [],
   "source": []
  }
 ],
 "metadata": {
  "kernelspec": {
   "display_name": "Python 3",
   "language": "python",
   "name": "python3"
  },
  "language_info": {
   "codemirror_mode": {
    "name": "ipython",
    "version": 3
   },
   "file_extension": ".py",
   "mimetype": "text/x-python",
   "name": "python",
   "nbconvert_exporter": "python",
   "pygments_lexer": "ipython3",
   "version": "3.7.4"
  }
 },
 "nbformat": 4,
 "nbformat_minor": 2
}
