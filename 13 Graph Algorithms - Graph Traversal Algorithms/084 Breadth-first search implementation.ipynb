{
 "cells": [
  {
   "cell_type": "code",
   "execution_count": 12,
   "metadata": {},
   "outputs": [],
   "source": [
    "class Node(object):\n",
    "    \n",
    "    def __init__(self, name):\n",
    "        self.name = name\n",
    "        self.adjacencyList = []\n",
    "        self.visited = False\n",
    "        self.predecessor = None\n",
    "        \n",
    "class BreadthFirstSearch(object):\n",
    "    \n",
    "    def bfs(self, startNode):\n",
    "        \n",
    "        queue = []\n",
    "        queue.append(startNode)\n",
    "        startNode.visited = True\n",
    "        \n",
    "        while queue:\n",
    "            actualNode = queue.pop(0)\n",
    "            print(actualNode.name)\n",
    "            \n",
    "            for n in actualNode.adjacencyList:\n",
    "                if not n.visited:\n",
    "                    n.visited = True\n",
    "                    queue.append(n)\n",
    "                    "
   ]
  },
  {
   "cell_type": "code",
   "execution_count": 13,
   "metadata": {},
   "outputs": [],
   "source": [
    "node1 = Node(\"A\")\n",
    "node2 = Node(\"B\")\n",
    "node3 = Node(\"C\")\n",
    "node4 = Node(\"D\")\n",
    "node5 = Node(\"E\")"
   ]
  },
  {
   "cell_type": "code",
   "execution_count": 16,
   "metadata": {},
   "outputs": [],
   "source": [
    "node1.adjacencyList.append(node2)\n",
    "node1.adjacencyList.append(node3)\n",
    "node2.adjacencyList.append(node4)\n",
    "node4.adjacencyList.append(node5)"
   ]
  },
  {
   "cell_type": "code",
   "execution_count": 17,
   "metadata": {},
   "outputs": [
    {
     "name": "stdout",
     "output_type": "stream",
     "text": [
      "A\n",
      "B\n",
      "C\n",
      "D\n",
      "E\n"
     ]
    }
   ],
   "source": [
    "bfs = BreadthFirstSearch()\n",
    "bfs.bfs(node1)"
   ]
  },
  {
   "cell_type": "code",
   "execution_count": null,
   "metadata": {},
   "outputs": [],
   "source": []
  }
 ],
 "metadata": {
  "kernelspec": {
   "display_name": "Python 3",
   "language": "python",
   "name": "python3"
  },
  "language_info": {
   "codemirror_mode": {
    "name": "ipython",
    "version": 3
   },
   "file_extension": ".py",
   "mimetype": "text/x-python",
   "name": "python",
   "nbconvert_exporter": "python",
   "pygments_lexer": "ipython3",
   "version": "3.7.4"
  }
 },
 "nbformat": 4,
 "nbformat_minor": 2
}
