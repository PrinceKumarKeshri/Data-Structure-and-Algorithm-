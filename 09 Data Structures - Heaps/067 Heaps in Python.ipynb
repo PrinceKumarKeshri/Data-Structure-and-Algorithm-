{
 "cells": [
  {
   "cell_type": "code",
   "execution_count": 3,
   "metadata": {},
   "outputs": [
    {
     "name": "stdout",
     "output_type": "stream",
     "text": [
      "-2\n",
      "3\n",
      "4\n",
      "6\n",
      "8\n",
      "9\n",
      "12\n"
     ]
    }
   ],
   "source": [
    "from heapq import heappop, heappush, heapify\n",
    "\n",
    "heap =  []\n",
    "nums = [12, 3, -2, 6, 4, 8, 9]\n",
    "\n",
    "for num in nums:\n",
    "    heappush(heap, num)\n",
    "    \n",
    "while heap:\n",
    "    print(heappop(heap))"
   ]
  },
  {
   "cell_type": "code",
   "execution_count": 5,
   "metadata": {},
   "outputs": [
    {
     "name": "stdout",
     "output_type": "stream",
     "text": [
      "[-2, 3, 8, 6, 4, 12, 9]\n"
     ]
    }
   ],
   "source": [
    "from heapq import heappop, heappush, heapify\n",
    "\n",
    "heap =  []\n",
    "nums = [12, 3, -2, 6, 4, 8, 9]\n",
    "\n",
    "heapify(nums)\n",
    "\n",
    "print(nums)"
   ]
  },
  {
   "cell_type": "code",
   "execution_count": null,
   "metadata": {},
   "outputs": [],
   "source": []
  }
 ],
 "metadata": {
  "kernelspec": {
   "display_name": "Python 3",
   "language": "python",
   "name": "python3"
  },
  "language_info": {
   "codemirror_mode": {
    "name": "ipython",
    "version": 3
   },
   "file_extension": ".py",
   "mimetype": "text/x-python",
   "name": "python",
   "nbconvert_exporter": "python",
   "pygments_lexer": "ipython3",
   "version": "3.7.4"
  }
 },
 "nbformat": 4,
 "nbformat_minor": 2
}
