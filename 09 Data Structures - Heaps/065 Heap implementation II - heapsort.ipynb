{
 "cells": [
  {
   "cell_type": "code",
   "execution_count": 36,
   "metadata": {},
   "outputs": [],
   "source": [
    "class Heap(object):\n",
    "    \n",
    "    Heap_Size = 10\n",
    "    \n",
    "    def __init__(self):\n",
    "        self.heap = [0] * Heap.Heap_Size\n",
    "        self.currentPosition = -1\n",
    "        \n",
    "    def insert(self, item):\n",
    "        \n",
    "        if self.isFull():\n",
    "            print(\"Heap is full...\")\n",
    "            return\n",
    "        \n",
    "        self.currentPosition = self.currentPosition + 1\n",
    "        self.heap[self.currentPosition] = item\n",
    "        self.fixUp(self.currentPosition)\n",
    "        \n",
    "    def fixUp(self, index):\n",
    "        \n",
    "        parentIndex = int((index - 1)/ 2)\n",
    "        print(parentIndex)\n",
    "        while parentIndex >= 0 and self.heap[parentIndex] < self.heap[index]:\n",
    "            \n",
    "            temp = self.heap[index]\n",
    "            self.heap[index] = self.heap[parentIndex]\n",
    "            self.heap[parentIndex] = temp\n",
    "            parentIndex = (int)((index - 1)/2)\n",
    "            print(parentIndex, index)\n",
    "            print(self.heap)\n",
    "        \n",
    "    def heapsort(self):\n",
    "        \n",
    "        for i in range(0, self.currentPosition):\n",
    "            temp = self.heap[0]\n",
    "            print(temp)\n",
    "            self.heap[0] = self.heap[self.currentPosition - i]\n",
    "            self.heap[self.currentPosition - i] = temp\n",
    "            self.fixDown(0, self.currentPosition - i -1)\n",
    "        \n",
    "    def isFull(self):\n",
    "        \n",
    "        if self.currentPosition == Heap.Heap_Size:\n",
    "            return True\n",
    "        \n",
    "        else:\n",
    "            return False"
   ]
  },
  {
   "cell_type": "code",
   "execution_count": 37,
   "metadata": {},
   "outputs": [],
   "source": [
    "heap = Heap()"
   ]
  },
  {
   "cell_type": "code",
   "execution_count": 38,
   "metadata": {},
   "outputs": [
    {
     "name": "stdout",
     "output_type": "stream",
     "text": [
      "0\n"
     ]
    }
   ],
   "source": [
    "heap.insert(12)"
   ]
  },
  {
   "cell_type": "code",
   "execution_count": 39,
   "metadata": {},
   "outputs": [
    {
     "name": "stdout",
     "output_type": "stream",
     "text": [
      "0\n"
     ]
    }
   ],
   "source": [
    "heap.insert(5)"
   ]
  },
  {
   "cell_type": "code",
   "execution_count": 40,
   "metadata": {},
   "outputs": [
    {
     "name": "stdout",
     "output_type": "stream",
     "text": [
      "0\n",
      "0 2\n",
      "[100, 5, 12, 0, 0, 0, 0, 0, 0, 0]\n"
     ]
    }
   ],
   "source": [
    "heap.insert(100)"
   ]
  },
  {
   "cell_type": "code",
   "execution_count": 41,
   "metadata": {},
   "outputs": [
    {
     "data": {
      "text/plain": [
       "2"
      ]
     },
     "execution_count": 41,
     "metadata": {},
     "output_type": "execute_result"
    }
   ],
   "source": [
    "heap.currentPosition"
   ]
  },
  {
   "cell_type": "code",
   "execution_count": 42,
   "metadata": {},
   "outputs": [
    {
     "data": {
      "text/plain": [
       "False"
      ]
     },
     "execution_count": 42,
     "metadata": {},
     "output_type": "execute_result"
    }
   ],
   "source": [
    "heap.isFull()"
   ]
  },
  {
   "cell_type": "code",
   "execution_count": 43,
   "metadata": {},
   "outputs": [
    {
     "name": "stdout",
     "output_type": "stream",
     "text": [
      "1\n",
      "1 3\n",
      "[100, 19, 12, 5, 0, 0, 0, 0, 0, 0]\n"
     ]
    }
   ],
   "source": [
    "heap.insert(19)"
   ]
  },
  {
   "cell_type": "code",
   "execution_count": 44,
   "metadata": {},
   "outputs": [
    {
     "name": "stdout",
     "output_type": "stream",
     "text": [
      "1\n",
      "1 4\n",
      "[100, 210, 12, 5, 19, 0, 0, 0, 0, 0]\n"
     ]
    }
   ],
   "source": [
    "heap.insert(210)"
   ]
  },
  {
   "cell_type": "code",
   "execution_count": 45,
   "metadata": {},
   "outputs": [
    {
     "name": "stdout",
     "output_type": "stream",
     "text": [
      "2\n",
      "2 5\n",
      "[100, 210, 300, 5, 19, 12, 0, 0, 0, 0]\n"
     ]
    }
   ],
   "source": [
    "heap.insert(300)"
   ]
  },
  {
   "cell_type": "code",
   "execution_count": 46,
   "metadata": {},
   "outputs": [
    {
     "name": "stdout",
     "output_type": "stream",
     "text": [
      "2\n",
      "2 6\n",
      "[100, 210, 400, 5, 19, 12, 300, 0, 0, 0]\n"
     ]
    }
   ],
   "source": [
    "heap.insert(400)"
   ]
  },
  {
   "cell_type": "code",
   "execution_count": 47,
   "metadata": {},
   "outputs": [
    {
     "name": "stdout",
     "output_type": "stream",
     "text": [
      "3\n",
      "3 7\n",
      "[100, 210, 400, 1000, 19, 12, 300, 5, 0, 0]\n"
     ]
    }
   ],
   "source": [
    "heap.insert(1000)"
   ]
  },
  {
   "cell_type": "code",
   "execution_count": null,
   "metadata": {},
   "outputs": [],
   "source": []
  },
  {
   "cell_type": "code",
   "execution_count": null,
   "metadata": {},
   "outputs": [],
   "source": []
  },
  {
   "cell_type": "code",
   "execution_count": 1,
   "metadata": {},
   "outputs": [
    {
     "name": "stdout",
     "output_type": "stream",
     "text": [
      "1\n",
      "1\n"
     ]
    }
   ],
   "source": [
    "index = 4\n",
    "x = int((index-1) / 2)\n",
    "print(x)\n",
    "s = (int)((index -1) / 2)\n",
    "print(s)"
   ]
  },
  {
   "cell_type": "code",
   "execution_count": null,
   "metadata": {},
   "outputs": [],
   "source": []
  }
 ],
 "metadata": {
  "kernelspec": {
   "display_name": "Python 3",
   "language": "python",
   "name": "python3"
  },
  "language_info": {
   "codemirror_mode": {
    "name": "ipython",
    "version": 3
   },
   "file_extension": ".py",
   "mimetype": "text/x-python",
   "name": "python",
   "nbconvert_exporter": "python",
   "pygments_lexer": "ipython3",
   "version": "3.7.4"
  }
 },
 "nbformat": 4,
 "nbformat_minor": 2
}
