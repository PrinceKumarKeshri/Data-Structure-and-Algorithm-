{
 "cells": [
  {
   "cell_type": "code",
   "execution_count": null,
   "metadata": {},
   "outputs": [],
   "source": [
    "class Node(object):\n",
    "    \n",
    "    def __init__(self, data):\n",
    "        self.data = data\n",
    "        self.height = 0\n",
    "        self.leftChild = None\n",
    "        self.rightChild = None\n",
    "        \n",
    "\n",
    "\n",
    "class AVL(object):\n",
    "    \n",
    "    def __init__(self):\n",
    "        self.root = None\n",
    "        \n",
    "    \n",
    "    def calcHeight(self, node):\n",
    "        if not node:\n",
    "            return -1\n",
    "        \n",
    "        return node.height\n",
    "    \n",
    "    # if it returns value > 1 it means it is a left heavy tree --> right rotation\n",
    "    # ------------------- < -1 right heavy tree --> left rotation\n",
    "    \n",
    "    def calcBalance(self, node):\n",
    "        if not node:\n",
    "            return 0\n",
    "        return self.calcHeight(node.leftChild) - self.calcHeight(node.rightChild)\n",
    "    \n",
    "    "
   ]
  }
 ],
 "metadata": {
  "kernelspec": {
   "display_name": "Python 3",
   "language": "python",
   "name": "python3"
  },
  "language_info": {
   "codemirror_mode": {
    "name": "ipython",
    "version": 3
   },
   "file_extension": ".py",
   "mimetype": "text/x-python",
   "name": "python",
   "nbconvert_exporter": "python",
   "pygments_lexer": "ipython3",
   "version": "3.7.4"
  }
 },
 "nbformat": 4,
 "nbformat_minor": 2
}
