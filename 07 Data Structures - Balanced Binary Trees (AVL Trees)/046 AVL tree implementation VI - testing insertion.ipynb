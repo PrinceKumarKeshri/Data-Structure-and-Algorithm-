{
 "cells": [
  {
   "cell_type": "code",
   "execution_count": 165,
   "metadata": {},
   "outputs": [],
   "source": [
    "class Node(object):\n",
    "    \n",
    "    def __init__(self, data):\n",
    "        self.data = data\n",
    "        self.height = 0\n",
    "        self.leftChild = None\n",
    "        self.rightChild = None\n",
    "        \n",
    "\n",
    "\n",
    "class AVL(object):\n",
    "    \n",
    "    def __init__(self):\n",
    "        self.root = None\n",
    "        \n",
    "    \n",
    "    \n",
    "    def insert(self, data):\n",
    "        self.root = self.insertNode(data, self.root)\n",
    "        \n",
    "    \n",
    "    \n",
    "    def insertNode(self, data, node):\n",
    "        if not node:\n",
    "            return Node(data)\n",
    "        \n",
    "        if data < node.data:\n",
    "            node.leftChild = self.insertNode(data, node.leftChild)\n",
    "        else:\n",
    "            node.rightChild = self.insertNode(data, node.rightChild)\n",
    "            \n",
    "        node.height = max(self.calcHeight(node.leftChild), self.calcHeight(node.rightChild)) + 1\n",
    "        \n",
    "        return self.settleViolation(data, node)\n",
    "    \n",
    "    \n",
    "    \n",
    "    def settleViolation(self, data, node):\n",
    "        \n",
    "        balance = self.calcBalance(node)\n",
    "        \n",
    "        # case 1 --> left left heavy situation\n",
    "        if balance > 1 and data < node.leftChild.data:\n",
    "            print(\"Left left heavy situation ...\")\n",
    "            return self.rotateRight(node)\n",
    "        \n",
    "        # case 2 --> right right heavy situation --> single left rotation\n",
    "        if balance < -1 and data > node.rightChild.data:\n",
    "            print(\"Right right heavy situation ...\")\n",
    "            return self.rotateLeft(node)\n",
    "        \n",
    "        if balance > 1 and data > node.leftChild.data:\n",
    "            print(\"Left right heavy situation ...\")\n",
    "            node.leftChild = self.rotateLeft(node.leftChild)\n",
    "            return self.rotateRight(node)\n",
    "        \n",
    "        if balance < -1 and data < node.rightChild.data:\n",
    "            print(\"Right left heavy situation ...\")\n",
    "            node.rightChild = self.rotateRight(node.rightChild)\n",
    "            return self.rotateLeft(node)\n",
    "        \n",
    "        return node\n",
    "    \n",
    "    \n",
    "    def calcHeight(self, node):\n",
    "        if not node:\n",
    "            return -1\n",
    "        \n",
    "        return node.height\n",
    "    \n",
    "    \n",
    "    \n",
    "    # if it returns value > 1 it means it is a left heavy tree --> right rotation\n",
    "    # ------------------- < -1 right heavy tree --> left rotation\n",
    "    \n",
    "    def calcBalance(self, node):\n",
    "        if not node:\n",
    "            return 0\n",
    "        return self.calcHeight(node.leftChild) - self.calcHeight(node.rightChild)\n",
    "    \n",
    "    \n",
    "    def traverse(self):\n",
    "        if self.root:\n",
    "            self.traverseInOrder(self.root)\n",
    "            \n",
    "    \n",
    "    def traverseInOrder(self, node):\n",
    "        \n",
    "        if node.leftChild:\n",
    "            self.traverseInOrder(node.leftChild)\n",
    "            \n",
    "        print(node.data)\n",
    "        \n",
    "        if node.rightChild:\n",
    "            self.traverseInOrder(node.rightChild)\n",
    "        \n",
    "        \n",
    "    \n",
    "    def rotateRight(self, node):\n",
    "        print(f\"Rotating to the right on node =  {node.data}\")\n",
    "        \n",
    "        tempLeftChild = node.leftChild\n",
    "        t = tempLeftChild.rightChild\n",
    "        \n",
    "        tempLeftChild.rightChild = node\n",
    "        node.leftChild = t\n",
    "        \n",
    "        node.height = max(self.calcHeight(node.leftChild), self.calcHeight(node.rightChild)) + 1\n",
    "        tempLeftChild.height = max(self.calcHeight(tempLeftChild.leftChild), self.calcHeight(tempLeftChild.rightChild)) + 1\n",
    "        \n",
    "        return tempLeftChild\n",
    "    \n",
    "    \n",
    "    \n",
    "    def rotateLeft(self, node):\n",
    "        print(f\"Rotating to the left on node = {node.data}\")\n",
    "        \n",
    "        tempRightChild = node.rightChild\n",
    "        t = tempRightChild.leftChild\n",
    "        \n",
    "        tempRightChild.leftChild = node\n",
    "        node.rightChild = t\n",
    "        \n",
    "        node.height = max(self.calcHeight(node.leftChild), self.calcHeight(node.rightChild)) + 1\n",
    "        tempRightChild.height = max(self.calcHeight(tempRightChild.leftChild), self.calcHeight(tempRightChild.rightChild)) + 1\n",
    "        \n",
    "        return tempRightChild\n",
    "    \n",
    "    \n",
    "    \n",
    "    \n",
    "avl = AVL()"
   ]
  },
  {
   "cell_type": "code",
   "execution_count": 151,
   "metadata": {},
   "outputs": [
    {
     "name": "stdout",
     "output_type": "stream",
     "text": [
      "Right right heavy situation ...\n",
      "Rotating to the left on node = 10\n"
     ]
    }
   ],
   "source": [
    "# Case 1\n",
    "\n",
    "avl.insert(10)\n",
    "avl.insert(20)\n",
    "avl.insert(30)"
   ]
  },
  {
   "cell_type": "code",
   "execution_count": 152,
   "metadata": {},
   "outputs": [
    {
     "name": "stdout",
     "output_type": "stream",
     "text": [
      "10\n",
      "20\n",
      "30\n"
     ]
    }
   ],
   "source": [
    "avl.traverse()"
   ]
  },
  {
   "cell_type": "code",
   "execution_count": 154,
   "metadata": {},
   "outputs": [
    {
     "name": "stdout",
     "output_type": "stream",
     "text": [
      "Left left heavy situation ...\n",
      "Rotating to the right on node =  5\n"
     ]
    }
   ],
   "source": [
    "# Case 2\n",
    "\n",
    "avl.insert(5)\n",
    "avl.insert(4)\n",
    "avl.insert(3)"
   ]
  },
  {
   "cell_type": "code",
   "execution_count": 155,
   "metadata": {},
   "outputs": [
    {
     "name": "stdout",
     "output_type": "stream",
     "text": [
      "3\n",
      "4\n",
      "5\n"
     ]
    }
   ],
   "source": [
    "avl.traverse()"
   ]
  },
  {
   "cell_type": "code",
   "execution_count": 160,
   "metadata": {},
   "outputs": [
    {
     "name": "stdout",
     "output_type": "stream",
     "text": [
      "Right left heavy situation ...\n",
      "Rotating to the right on node =  7\n",
      "Rotating to the left on node = 5\n"
     ]
    }
   ],
   "source": [
    "# Case 3\n",
    "\n",
    "avl.insert(5)\n",
    "avl.insert(7)\n",
    "avl.insert(6)"
   ]
  },
  {
   "cell_type": "code",
   "execution_count": 161,
   "metadata": {},
   "outputs": [
    {
     "name": "stdout",
     "output_type": "stream",
     "text": [
      "5\n",
      "6\n",
      "7\n"
     ]
    }
   ],
   "source": [
    "avl.traverse()"
   ]
  },
  {
   "cell_type": "code",
   "execution_count": 163,
   "metadata": {},
   "outputs": [
    {
     "name": "stdout",
     "output_type": "stream",
     "text": [
      "Left right heavy situation ...\n",
      "Rotating to the left on node = 3\n",
      "Rotating to the right on node =  5\n"
     ]
    }
   ],
   "source": [
    "# Case 4\n",
    "\n",
    "avl.insert(5)\n",
    "avl.insert(3)\n",
    "avl.insert(4)"
   ]
  },
  {
   "cell_type": "code",
   "execution_count": 164,
   "metadata": {},
   "outputs": [
    {
     "name": "stdout",
     "output_type": "stream",
     "text": [
      "3\n",
      "4\n",
      "5\n"
     ]
    }
   ],
   "source": [
    "avl.traverse()"
   ]
  },
  {
   "cell_type": "code",
   "execution_count": 166,
   "metadata": {},
   "outputs": [
    {
     "name": "stdout",
     "output_type": "stream",
     "text": [
      "Right right heavy situation ...\n",
      "Rotating to the left on node = 1\n",
      "Right right heavy situation ...\n",
      "Rotating to the left on node = 3\n",
      "Right right heavy situation ...\n",
      "Rotating to the left on node = 2\n"
     ]
    }
   ],
   "source": [
    "avl.insert(1)\n",
    "avl.insert(2)\n",
    "avl.insert(3)\n",
    "avl.insert(4)\n",
    "avl.insert(5)\n",
    "avl.insert(6)"
   ]
  },
  {
   "cell_type": "code",
   "execution_count": 167,
   "metadata": {
    "scrolled": true
   },
   "outputs": [
    {
     "name": "stdout",
     "output_type": "stream",
     "text": [
      "1\n",
      "2\n",
      "3\n",
      "4\n",
      "5\n",
      "6\n"
     ]
    }
   ],
   "source": [
    "avl.traverse()"
   ]
  },
  {
   "cell_type": "code",
   "execution_count": null,
   "metadata": {},
   "outputs": [],
   "source": []
  },
  {
   "cell_type": "code",
   "execution_count": null,
   "metadata": {},
   "outputs": [],
   "source": []
  }
 ],
 "metadata": {
  "kernelspec": {
   "display_name": "Python 3",
   "language": "python",
   "name": "python3"
  },
  "language_info": {
   "codemirror_mode": {
    "name": "ipython",
    "version": 3
   },
   "file_extension": ".py",
   "mimetype": "text/x-python",
   "name": "python",
   "nbconvert_exporter": "python",
   "pygments_lexer": "ipython3",
   "version": "3.7.4"
  }
 },
 "nbformat": 4,
 "nbformat_minor": 2
}
