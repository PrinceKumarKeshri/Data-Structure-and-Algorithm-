{
 "cells": [
  {
   "cell_type": "code",
   "execution_count": 34,
   "metadata": {},
   "outputs": [],
   "source": [
    "class Node(object):\n",
    "    \n",
    "    def __init__(self, data):\n",
    "        \n",
    "        self.data = data\n",
    "        self.height = 0\n",
    "        self.leftChild = None\n",
    "        self.rightChild = None\n",
    "        \n",
    "\n",
    "\n",
    "class AVL(object):\n",
    "    \n",
    "    def __init__(self):\n",
    "        \n",
    "        self.root = None\n",
    "        \n",
    "    \n",
    "    \n",
    "    def insert(self, data):\n",
    "        \n",
    "        self.root = self.insertNode(data, self.root)\n",
    "        \n",
    "    \n",
    "    \n",
    "    def insertNode(self, data, node):\n",
    "        \n",
    "        if not node:\n",
    "            return Node(data)\n",
    "        \n",
    "        if data < node.data:\n",
    "            node.leftChild = self.insertNode(data, node.leftChild)\n",
    "        \n",
    "        else:\n",
    "            node.rightChild = self.insertNode(data, node.rightChild)\n",
    "            \n",
    "        node.height = max(self.calcHeight(node.leftChild), self.calcHeight(node.rightChild)) + 1\n",
    "        \n",
    "        return self.settleViolation(data, node)\n",
    "    \n",
    "    \n",
    "    \n",
    "    def settleViolation(self, data, node):\n",
    "        \n",
    "        balance = self.calcBalance(node)\n",
    "        \n",
    "        # case 1 --> left left heavy situation\n",
    "        if balance > 1 and data < node.leftChild.data:\n",
    "            print(\"Left left heavy situation ...\")\n",
    "            return self.rotateRight(node)\n",
    "        \n",
    "        # case 2 --> right right heavy situation --> single left rotation\n",
    "        if balance < -1 and data > node.rightChild.data:\n",
    "            print(\"Right right heavy situation ...\")\n",
    "            return self.rotateLeft(node)\n",
    "        \n",
    "        if balance > 1 and data > node.leftChild.data:\n",
    "            print(\"Left right heavy situation ...\")\n",
    "            node.leftChild = self.rotateLeft(node.leftChild)\n",
    "            return self.rotateRight(node)\n",
    "        \n",
    "        if balance < -1 and data < node.rightChild.data:\n",
    "            print(\"Right left heavy situation ...\")\n",
    "            node.rightChild = self.rotateRight(node.rightChild)\n",
    "            return self.rotateLeft(node)\n",
    "        \n",
    "        return node\n",
    "    \n",
    "    \n",
    "    \n",
    "    \n",
    "    def remove(self, data):\n",
    "        \n",
    "        if self.root:\n",
    "            self.root = self.removeNode(data, self.root)\n",
    "    \n",
    "    \n",
    "    \n",
    "    def removeNode(self, data, node):\n",
    "        \n",
    "        if not node:\n",
    "            return node\n",
    "    \n",
    "        if data < node.data:\n",
    "            node.leftChild = self.removeNode(data, node.leftChild)\n",
    "            \n",
    "        elif data > node.data:\n",
    "            node.rightChild = self.removeNode(data, node.rightChild)\n",
    "        \n",
    "        else:\n",
    "            \n",
    "            if not node.leftChild and not node.rightChild:\n",
    "                print(\"Removing a leaf node...\")\n",
    "                del node\n",
    "                return None\n",
    "            \n",
    "            if not node.leftChild:\n",
    "                print(\"Removing a node with a right child ...\")\n",
    "                tempNode = node.rightChild\n",
    "                del node\n",
    "                return tempNode\n",
    "            \n",
    "            elif not node.rightChild:\n",
    "                print(\"Removing a node with a left child ...\")\n",
    "                tempNode = node.leftChild\n",
    "                del node\n",
    "                return tempNode\n",
    "            \n",
    "            print(\"Removing node with two children....\")\n",
    "            tempNode = self.getPredecessor(node.leftChild)\n",
    "            node.data = tempNode.data\n",
    "            node.leftChild = self.removeNode(tempNode.data, node.leftChild)\n",
    "    \n",
    "        if not node:\n",
    "            return node # if the tree had just a single node\n",
    "\n",
    "        node.height = max(self.calcHeight(node.leftChild), self.calcHeight(node.rightChild)) + 1\n",
    "\n",
    "        balance = self.calcBalance(node)\n",
    "\n",
    "        #doubly left heavy situation\n",
    "        if balance > 1 and self.calcBalance(node.leftChild) >= 0:\n",
    "            return self.rotateRight(node)\n",
    "\n",
    "        #left right case\n",
    "        if balance > 1 and self.calcBalance(node.leftChild) < 0:\n",
    "            node.leftChild = self.rotateLeft(node.leftChild)\n",
    "            return self.rotateRight(node)\n",
    "\n",
    "        #right right case\n",
    "        if balance < -1 and self.calcBalance(node.rightChild) <= 0:\n",
    "            return self.rotateLeft(node)\n",
    "        \n",
    "        #right left case\n",
    "        if balance < -1 and self.calcBalance(node.rightChild) > 0:\n",
    "            node.rightChild = self.rotateRight(node.rightChild)\n",
    "            return self.rotateLeft(node)\n",
    "        \n",
    "        return node\n",
    "            \n",
    "    \n",
    "    def getPredeccessor(self, node):\n",
    "        \n",
    "        if node.rightChild:\n",
    "            return slef.getPredecessor(node.rightChild)\n",
    "        \n",
    "        return node\n",
    "    \n",
    "    \n",
    "    def calcHeight(self, node):\n",
    "        \n",
    "        if not node:\n",
    "            return -1\n",
    "        \n",
    "        return node.height\n",
    "    \n",
    "    \n",
    "    \n",
    "    # if it returns value > 1 it means it is a left heavy tree --> right rotation\n",
    "    # ------------------- < -1 right heavy tree --> left rotation\n",
    "    \n",
    "    def calcBalance(self, node):\n",
    "        \n",
    "        if not node:\n",
    "            return 0\n",
    "        return self.calcHeight(node.leftChild) - self.calcHeight(node.rightChild)\n",
    "    \n",
    "    \n",
    "    def traverse(self):\n",
    "        \n",
    "        if self.root:\n",
    "            self.traverseInOrder(self.root)\n",
    "            \n",
    "    \n",
    "    def traverseInOrder(self, node):\n",
    "        \n",
    "        if node.leftChild:\n",
    "            self.traverseInOrder(node.leftChild)\n",
    "            \n",
    "        print(node.data)\n",
    "        \n",
    "        if node.rightChild:\n",
    "            self.traverseInOrder(node.rightChild)\n",
    "        \n",
    "        \n",
    "    \n",
    "    def rotateRight(self, node):\n",
    "        \n",
    "        print(f\"Rotating to the right on node =  {node.data}\")\n",
    "        \n",
    "        tempLeftChild = node.leftChild\n",
    "        t = tempLeftChild.rightChild\n",
    "        \n",
    "        tempLeftChild.rightChild = node\n",
    "        node.leftChild = t\n",
    "        \n",
    "        node.height = max(self.calcHeight(node.leftChild), self.calcHeight(node.rightChild)) + 1\n",
    "        tempLeftChild.height = max(self.calcHeight(tempLeftChild.leftChild), self.calcHeight(tempLeftChild.rightChild)) + 1\n",
    "        \n",
    "        return tempLeftChild\n",
    "    \n",
    "    \n",
    "    \n",
    "    def rotateLeft(self, node):\n",
    "        \n",
    "        print(f\"Rotating to the left on node = {node.data}\")\n",
    "        \n",
    "        tempRightChild = node.rightChild\n",
    "        t = tempRightChild.leftChild\n",
    "        \n",
    "        tempRightChild.leftChild = node\n",
    "        node.rightChild = t\n",
    "        \n",
    "        node.height = max(self.calcHeight(node.leftChild), self.calcHeight(node.rightChild)) + 1\n",
    "        tempRightChild.height = max(self.calcHeight(tempRightChild.leftChild), self.calcHeight(tempRightChild.rightChild)) + 1\n",
    "        \n",
    "        return tempRightChild\n",
    "    \n",
    "    \n",
    "    \n",
    "    \n",
    "avl = AVL()"
   ]
  },
  {
   "cell_type": "code",
   "execution_count": 14,
   "metadata": {},
   "outputs": [],
   "source": [
    "avl.insert(10)\n",
    "avl.insert(20)\n",
    "avl.insert(5)\n",
    "avl.insert(4)\n",
    "avl.insert(15)"
   ]
  },
  {
   "cell_type": "code",
   "execution_count": 15,
   "metadata": {
    "scrolled": true
   },
   "outputs": [
    {
     "name": "stdout",
     "output_type": "stream",
     "text": [
      "4\n",
      "5\n",
      "10\n",
      "15\n",
      "20\n"
     ]
    }
   ],
   "source": [
    "avl.traverse()"
   ]
  },
  {
   "cell_type": "code",
   "execution_count": 16,
   "metadata": {},
   "outputs": [
    {
     "name": "stdout",
     "output_type": "stream",
     "text": [
      "Removing a node with a left child ...\n"
     ]
    }
   ],
   "source": [
    "avl.remove(5)"
   ]
  },
  {
   "cell_type": "code",
   "execution_count": 17,
   "metadata": {},
   "outputs": [
    {
     "name": "stdout",
     "output_type": "stream",
     "text": [
      "Removing a leaf node...\n",
      "Rotating to the right on node =  20\n",
      "Rotating to the left on node = 10\n"
     ]
    }
   ],
   "source": [
    "avl.remove(4)"
   ]
  },
  {
   "cell_type": "code",
   "execution_count": 18,
   "metadata": {},
   "outputs": [
    {
     "name": "stdout",
     "output_type": "stream",
     "text": [
      "10\n",
      "15\n",
      "20\n"
     ]
    }
   ],
   "source": [
    "avl.traverse()"
   ]
  },
  {
   "cell_type": "code",
   "execution_count": 35,
   "metadata": {},
   "outputs": [],
   "source": [
    "avl.insert(10)\n",
    "avl.insert(20)\n",
    "avl.insert(5)\n",
    "avl.insert(6)\n",
    "avl.insert(15)"
   ]
  },
  {
   "cell_type": "code",
   "execution_count": 36,
   "metadata": {},
   "outputs": [
    {
     "name": "stdout",
     "output_type": "stream",
     "text": [
      "5\n",
      "6\n",
      "10\n",
      "15\n",
      "20\n"
     ]
    }
   ],
   "source": [
    "avl.traverse()"
   ]
  },
  {
   "cell_type": "code",
   "execution_count": 37,
   "metadata": {},
   "outputs": [
    {
     "name": "stdout",
     "output_type": "stream",
     "text": [
      "Removing a leaf node...\n"
     ]
    }
   ],
   "source": [
    "avl.remove(15)"
   ]
  },
  {
   "cell_type": "code",
   "execution_count": 38,
   "metadata": {},
   "outputs": [
    {
     "name": "stdout",
     "output_type": "stream",
     "text": [
      "Removing a leaf node...\n",
      "Rotating to the left on node = 5\n",
      "Rotating to the right on node =  10\n"
     ]
    }
   ],
   "source": [
    "avl.remove(20)"
   ]
  },
  {
   "cell_type": "code",
   "execution_count": 39,
   "metadata": {},
   "outputs": [
    {
     "name": "stdout",
     "output_type": "stream",
     "text": [
      "5\n",
      "6\n",
      "10\n"
     ]
    }
   ],
   "source": [
    "avl.traverse()"
   ]
  },
  {
   "cell_type": "code",
   "execution_count": null,
   "metadata": {},
   "outputs": [],
   "source": []
  }
 ],
 "metadata": {
  "kernelspec": {
   "display_name": "Python 3",
   "language": "python",
   "name": "python3"
  },
  "language_info": {
   "codemirror_mode": {
    "name": "ipython",
    "version": 3
   },
   "file_extension": ".py",
   "mimetype": "text/x-python",
   "name": "python",
   "nbconvert_exporter": "python",
   "pygments_lexer": "ipython3",
   "version": "3.7.4"
  }
 },
 "nbformat": 4,
 "nbformat_minor": 2
}
